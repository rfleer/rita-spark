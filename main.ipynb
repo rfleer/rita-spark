{
 "cells": [
  {
   "cell_type": "code",
   "execution_count": 1,
   "metadata": {},
   "outputs": [],
   "source": [
    "# Import SparkSession\n",
    "from pyspark.sql import SparkSession"
   ]
  },
  {
   "cell_type": "code",
   "execution_count": 2,
   "metadata": {},
   "outputs": [],
   "source": [
    "# Create SparkSession \n",
    "spark = SparkSession.builder \\\n",
    "      .master(\"local[1]\") \\\n",
    "      .appName(\"test\") \\\n",
    "      .getOrCreate()"
   ]
  },
  {
   "cell_type": "code",
   "execution_count": 4,
   "metadata": {},
   "outputs": [
    {
     "name": "stdout",
     "output_type": "stream",
     "text": [
      "+---------+----------+--------+----------+------+\n",
      "|firstname|middlename|lastname|       dob|salary|\n",
      "+---------+----------+--------+----------+------+\n",
      "|    James|          |   Smith|1991-04-01|  3000|\n",
      "|  Michael|      Rose|        |2000-05-19|  4000|\n",
      "|   Robert|          |Williams|1978-09-05|  4000|\n",
      "|    Maria|      Anne|   Jones|1967-12-01|  4000|\n",
      "|      Jen|      Mary|   Brown|1980-02-17|    -1|\n",
      "+---------+----------+--------+----------+------+\n",
      "\n"
     ]
    }
   ],
   "source": [
    "data = [\n",
    "  ('James','','Smith','1991-04-01',3000),\n",
    "  ('Michael','Rose','','2000-05-19',4000),\n",
    "  ('Robert','','Williams','1978-09-05',4000),\n",
    "  ('Maria','Anne','Jones','1967-12-01',4000),\n",
    "  ('Jen','Mary','Brown','1980-02-17',-1)\n",
    "]\n",
    "\n",
    "columns = [\"firstname\",\"middlename\",\"lastname\",\"dob\",\"salary\"]\n",
    "\n",
    "df = spark.createDataFrame(data=data, schema = columns)\n",
    "\n",
    "df.show()"
   ]
  },
  {
   "cell_type": "code",
   "execution_count": 5,
   "metadata": {},
   "outputs": [],
   "source": [
    "# Read the file using Spark\n",
    "file_path = \"sampledata.txt\"\n",
    "rdd = spark.sparkContext.textFile(file_path)\n"
   ]
  },
  {
   "cell_type": "code",
   "execution_count": 6,
   "metadata": {},
   "outputs": [
    {
     "name": "stdout",
     "output_type": "stream",
     "text": [
      "This: 2\n",
      "is: 2\n",
      "the: 2\n",
      "end,: 2\n",
      "beautiful: 1\n",
      "friend: 2\n",
      "my: 1\n",
      "only: 1\n",
      "The: 2\n",
      "end: 2\n",
      "of: 2\n",
      "our: 1\n",
      "elaborate: 1\n",
      "plans: 1\n",
      "everything: 1\n",
      "that: 1\n",
      "stands: 1\n"
     ]
    }
   ],
   "source": [
    "\n",
    "# Perform map-reduce to calculate word count\n",
    "word_count = rdd.flatMap(lambda line: line.split()) \\\n",
    "               .map(lambda word: (word, 1)) \\\n",
    "               .reduceByKey(lambda a, b: a + b)\n",
    "\n",
    "# Print the word count\n",
    "for word, count in word_count.collect():\n",
    "    print(f'{word}: {count}')\n"
   ]
  }
 ],
 "metadata": {
  "kernelspec": {
   "display_name": "base",
   "language": "python",
   "name": "python3"
  },
  "language_info": {
   "codemirror_mode": {
    "name": "ipython",
    "version": 3
   },
   "file_extension": ".py",
   "mimetype": "text/x-python",
   "name": "python",
   "nbconvert_exporter": "python",
   "pygments_lexer": "ipython3",
   "version": "3.11.6"
  }
 },
 "nbformat": 4,
 "nbformat_minor": 2
}
